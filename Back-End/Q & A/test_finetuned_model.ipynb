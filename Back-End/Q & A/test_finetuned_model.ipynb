{
 "cells": [
  {
   "cell_type": "code",
   "execution_count": 13,
   "metadata": {},
   "outputs": [],
   "source": [
    "from transformers import pipeline\n",
    "\n",
    "# Load the fine-tuned model for text generation\n",
    "generator = pipeline(\"text-generation\", model=\"D:\\SLIIT\\Research\\Finetune - Structure and Essay\\Merged_model\")"
   ]
  },
  {
   "cell_type": "code",
   "execution_count": 14,
   "metadata": {},
   "outputs": [],
   "source": [
    "def generate_structured_answer(query, max_words=50):\n",
    "    \"\"\"\n",
    "    Generate structured answers with concise and specific responses.\n",
    "    \"\"\"\n",
    "    # Prompt for structured questions\n",
    "    prompt = (\n",
    "        f\"Question: {query}\\n\\n\"\n",
    "        f\"Answer the question concisely and accurately in 1-2 sentences.\\nAnswer:\"\n",
    "    )\n",
    "\n",
    "    # Adjust max token length dynamically\n",
    "    input_length = len(generator.tokenizer(prompt)['input_ids'])\n",
    "    adjusted_max_length = input_length + max_words\n",
    "\n",
    "    # Generate response\n",
    "    response = generator(prompt, max_length=adjusted_max_length, truncation=True, num_return_sequences=1)\n",
    "    return response[0][\"generated_text\"]"
   ]
  },
  {
   "cell_type": "code",
   "execution_count": 16,
   "metadata": {},
   "outputs": [],
   "source": [
    "def generate_essay_answer(query, min_words=175, max_words=300):\n",
    "    \"\"\"\n",
    "    Generate essay-style answers with a detailed explanation.\n",
    "    Ensure the response meets the minimum word count and does not exceed the maximum token count.\n",
    "    \"\"\"\n",
    "    # Prompt for essay questions\n",
    "    prompt = (\n",
    "        f\"Question: {query}\\n\\n\"\n",
    "        f\"Answer the question in detail, providing a well-reasoned and comprehensive explanation. \"\n",
    "        f\"Highlight key features, provide examples, and mention advantages and disadvantages where applicable. \"\n",
    "        f\"Ensure your response is grammatically correct and at least {min_words} words long. \"\n",
    "        f\"Complete your answer and avoid repetition.\\nAnswer:\"\n",
    "    )\n",
    "\n",
    "    # Adjust max token length dynamically\n",
    "    input_length = len(generator.tokenizer(prompt)['input_ids'])\n",
    "    estimated_token_count = int(min_words * 0.75)  # Approximate token count for the minimum word count\n",
    "    adjusted_min_length = input_length + estimated_token_count\n",
    "    adjusted_max_length = input_length + max_words\n",
    "\n",
    "    # Generate response with parameters to ensure clarity and completeness\n",
    "    response = generator(\n",
    "        prompt,\n",
    "        max_length=adjusted_max_length,\n",
    "        min_length=int(adjusted_min_length),\n",
    "        temperature=0.7,         # Controls randomness\n",
    "        top_p=0.85,              # Nucleus sampling for diversity\n",
    "        top_k=40,                # Limits sampling to top 40 tokens\n",
    "        repetition_penalty=1.8,  # Penalizes repeated phrases\n",
    "        truncation=True,\n",
    "        num_return_sequences=1\n",
    "    )\n",
    "\n",
    "    # Extract and clean the generated text\n",
    "    generated_text = response[0][\"generated_text\"]\n",
    "\n",
    "    return generated_text\n"
   ]
  },
  {
   "cell_type": "code",
   "execution_count": 20,
   "metadata": {},
   "outputs": [],
   "source": [
    "def extract_answer_from_generated_text(generated_text):\n",
    "    \"\"\"\n",
    "    Extract the answer part from the generated text.\n",
    "    Assumes the answer starts immediately after 'Answer:'.\n",
    "    \"\"\"\n",
    "    \n",
    "    if \"Answer:\" in generated_text:\n",
    "        return generated_text.split(\"Answer:\")[1].strip()\n",
    "    else:\n",
    "        return generated_text.strip()"
   ]
  },
  {
   "cell_type": "code",
   "execution_count": 21,
   "metadata": {},
   "outputs": [
    {
     "name": "stderr",
     "output_type": "stream",
     "text": [
      "Setting `pad_token_id` to `eos_token_id`:None for open-end generation.\n"
     ]
    },
    {
     "name": "stdout",
     "output_type": "stream",
     "text": [
      "Structured Answer:\n",
      "DNA is a double helix of nucleotides that are linked together by covalent bonds. The structure of DNA is a complex molecule that consists of a long, twisted chain of nucleotides. Each nucleotide is made up of a nitrogen\n"
     ]
    }
   ],
   "source": [
    "structured_query = \"What is the structure of DNA?\"\n",
    "structured_answer = generate_structured_answer(structured_query, max_words=50)\n",
    "print(\"Structured Answer:\")\n",
    "print(extract_answer_from_generated_text(structured_answer))\n"
   ]
  },
  {
   "cell_type": "code",
   "execution_count": 18,
   "metadata": {},
   "outputs": [
    {
     "name": "stderr",
     "output_type": "stream",
     "text": [
      "Setting `pad_token_id` to `eos_token_id`:None for open-end generation.\n"
     ]
    },
    {
     "name": "stdout",
     "output_type": "stream",
     "text": [
      "\n",
      "Essay Answer:\n",
      "Question: Discuss the importance of biodiversity in ecosystems.\n",
      "\n",
      "Answer the question in detail, providing a well-reasoned and comprehensive explanation. Highlight key features, provide examples, and mention advantages and disadvantages where applicable. Ensure your response is grammatically correct and at least 175 words long. Complete your answer and avoid repetition.\n",
      "Answer: Biodiversity refers to all living organisms within an ecosystem including plants (both terrestrial & aquatic), animals as diverse species like birds, mammals etc., fungi that grow on wood or soil which are not visible by naked eye but still plays vital role for survival. For example if there will be no diversity then some population may become extinct due\n",
      "to lack variety among them.\n",
      "There would also been less number of predators because they cannot prey upon many types o n different kindsof food sources available.\n",
      "\n",
      "The above statement demonstrates how important it's necessary t0 protect b iodiversi ty from extinction so we can continue enjoying its benefits without any worry about losing what makes us happy!\n"
     ]
    }
   ],
   "source": [
    "essay_query = \"Discuss the importance of biodiversity in ecosystems.\"\n",
    "essay_answer = generate_essay_answer(essay_query, min_words=175, max_words=300)\n",
    "print(\"\\nEssay Answer:\")\n",
    "print(essay_answer)"
   ]
  }
 ],
 "metadata": {
  "kernelspec": {
   "display_name": "env",
   "language": "python",
   "name": "python3"
  },
  "language_info": {
   "codemirror_mode": {
    "name": "ipython",
    "version": 3
   },
   "file_extension": ".py",
   "mimetype": "text/x-python",
   "name": "python",
   "nbconvert_exporter": "python",
   "pygments_lexer": "ipython3",
   "version": "3.10.4"
  }
 },
 "nbformat": 4,
 "nbformat_minor": 2
}
