{
 "cells": [
  {
   "cell_type": "code",
   "execution_count": 16,
   "metadata": {},
   "outputs": [],
   "source": [
    "import pandas as pd\n",
    "import numpy as np\n",
    "from sentence_transformers import SentenceTransformer\n",
    "import faiss\n",
    "from transformers import pipeline\n"
   ]
  },
  {
   "cell_type": "code",
   "execution_count": 17,
   "metadata": {},
   "outputs": [
    {
     "name": "stdout",
     "output_type": "stream",
     "text": [
      "                                            Question  \\\n",
      "0  About how many years ago did life originate on...   \n",
      "1                        Example for Endemic species   \n",
      "2            write a short notes lectron microscopes   \n",
      "3         Explain the fine structure of mitochondria   \n",
      "4  Indicate the major function of both vitamin K ...   \n",
      "\n",
      "                                              Answer       Type  \n",
      "0                                           3.5X10^9  Structure  \n",
      "1  Dipterocurpus zeylanicus / Gracinia quaesita\\n...  Structure  \n",
      "2  Electron microscopes represent a groundbreakin...      Essay  \n",
      "3  Fine Structure of Mitochondria\\n\\nMitochondria...      Essay  \n",
      "4                                Aids blood clotting  Structure  \n"
     ]
    }
   ],
   "source": [
    "# Load the Q&A dataset\n",
    "qa_df = pd.read_csv('questionanswer.csv', encoding='ISO-8859-1')  # Columns: Question, Answer, Type\n",
    "\n",
    "# Clean missing values\n",
    "qa_df['Question'] = qa_df['Question'].fillna('')\n",
    "qa_df['Answer'] = qa_df['Answer'].fillna('')\n",
    "qa_df['Type'] = qa_df['Type'].fillna('structured')  # Default to 'structured'\n",
    "\n",
    "# Remove duplicates\n",
    "qa_df = qa_df.drop_duplicates()\n",
    "\n",
    "# Display a preview of the cleaned Q&A dataset\n",
    "print(qa_df.head())\n"
   ]
  },
  {
   "cell_type": "code",
   "execution_count": 18,
   "metadata": {},
   "outputs": [
    {
     "name": "stdout",
     "output_type": "stream",
     "text": [
      "   Document ID                    Topic  \\\n",
      "0            1  Introduction to Biology   \n",
      "1            2  Introduction to Biology   \n",
      "2            3  Introduction to Biology   \n",
      "3            4  Introduction to Biology   \n",
      "4            5  Introduction to Biology   \n",
      "\n",
      "                                           Sub-topic  \\\n",
      "0                 Understanding biological Diversity   \n",
      "1    Understanding the human Body and its functions.   \n",
      "2  Sustainable use and Management of natural reso...   \n",
      "3                        Sustainable Food production   \n",
      "4                           Understanding plant life   \n",
      "\n",
      "                                        Text Content  \\\n",
      "0  At present our planet is rich in diversity. Li...   \n",
      "1  When studying biology, especially by studying ...   \n",
      "2  Natural resources are sources of materials and...   \n",
      "3  Sustainable food production is the production ...   \n",
      "4  Plants are the primary producers in the world....   \n",
      "\n",
      "                             Source  \\\n",
      "0  Biology, Grade 12, Resource Book   \n",
      "1  Biology, Grade 12, Resource Book   \n",
      "2  Biology, Grade 12, Resource Book   \n",
      "3  Biology, Grade 12, Resource Book   \n",
      "4  Biology, Grade 12, Resource Book   \n",
      "\n",
      "                                       Combined Text  \n",
      "0  Introduction to Biology - Understanding biolog...  \n",
      "1  Introduction to Biology - Understanding the hu...  \n",
      "2  Introduction to Biology - Sustainable use and ...  \n",
      "3  Introduction to Biology - Sustainable Food pro...  \n",
      "4  Introduction to Biology - Understanding plant ...  \n"
     ]
    }
   ],
   "source": [
    "# Load the Notes dataset\n",
    "notes_df = pd.read_csv('Notes.csv', encoding='ISO-8859-1')  # Columns: Document ID, Topic, Sub-topic, Text Content\n",
    "\n",
    "# Fill missing text content with empty strings\n",
    "notes_df['Text Content'] = notes_df['Text Content'].fillna('')\n",
    "\n",
    "# Combine topic and sub-topic into a single field for better context\n",
    "notes_df['Combined Text'] = notes_df['Topic'] + \" - \" + notes_df['Sub-topic'] + \"\\n\" + notes_df['Text Content']\n",
    "\n",
    "# Display a preview of the cleaned Notes dataset\n",
    "print(notes_df.head())\n"
   ]
  },
  {
   "cell_type": "code",
   "execution_count": 19,
   "metadata": {},
   "outputs": [],
   "source": [
    "def chunk_text(text, chunk_size=300, overlap=50):\n",
    "    \"\"\"\n",
    "    Split long text into chunks of fixed size with overlap.\n",
    "    \"\"\"\n",
    "    words = text.split()\n",
    "    chunks = []\n",
    "    for i in range(0, len(words), chunk_size - overlap):\n",
    "        chunk = \" \".join(words[i:i + chunk_size])\n",
    "        chunks.append(chunk)\n",
    "    return chunks\n"
   ]
  },
  {
   "cell_type": "code",
   "execution_count": 20,
   "metadata": {},
   "outputs": [
    {
     "name": "stdout",
     "output_type": "stream",
     "text": [
      "   Document ID                                              Chunk\n",
      "0            1  Introduction to Biology - Understanding biolog...\n",
      "1            2  Introduction to Biology - Understanding the hu...\n",
      "2            3  Introduction to Biology - Sustainable use and ...\n",
      "3            4  Introduction to Biology - Sustainable Food pro...\n",
      "4            5  Introduction to Biology - Understanding plant ...\n"
     ]
    }
   ],
   "source": [
    "# Chunk the 'Combined Text' field\n",
    "chunk_size = 300  # Number of words per chunk\n",
    "overlap = 50      # Overlap between chunks\n",
    "\n",
    "chunked_notes = []\n",
    "for index, row in notes_df.iterrows():\n",
    "    chunks = chunk_text(row['Combined Text'], chunk_size, overlap)\n",
    "    for chunk in chunks:\n",
    "        chunked_notes.append({\n",
    "            'Document ID': row['Document ID'],\n",
    "            'Chunk': chunk\n",
    "        })\n",
    "\n",
    "# Convert chunked notes into a DataFrame\n",
    "chunked_notes_df = pd.DataFrame(chunked_notes)\n",
    "print(chunked_notes_df.head())"
   ]
  },
  {
   "cell_type": "code",
   "execution_count": 21,
   "metadata": {},
   "outputs": [],
   "source": [
    "# Load a semantic embedding model\n",
    "embedder = SentenceTransformer('sentence-transformers/multi-qa-mpnet-base-dot-v1')\n"
   ]
  },
  {
   "cell_type": "code",
   "execution_count": 23,
   "metadata": {},
   "outputs": [],
   "source": [
    "# Generate embeddings for Q&A dataset\n",
    "qa_embeddings = embedder.encode(qa_df['Question'].tolist())\n",
    "\n",
    "# Generate embeddings for chunked notes\n",
    "notes_embeddings = embedder.encode(chunked_notes_df['Chunk'].tolist())\n"
   ]
  },
  {
   "cell_type": "code",
   "execution_count": 24,
   "metadata": {},
   "outputs": [],
   "source": [
    "# Combine all embeddings and content for indexing\n",
    "all_embeddings = np.vstack([qa_embeddings, notes_embeddings]).astype('float32')\n",
    "\n",
    "# Combine all content for retrieval\n",
    "all_content = (\n",
    "    [{'type': 'Q&A', 'question': q, 'answer': a, 'type_label': t}\n",
    "     for q, a, t in zip(qa_df['Question'], qa_df['Answer'], qa_df['Type'])]\n",
    "    +\n",
    "    [{'type': 'Note', 'chunk': chunk} for chunk in chunked_notes_df['Chunk']]\n",
    ")\n"
   ]
  },
  {
   "cell_type": "code",
   "execution_count": null,
   "metadata": {},
   "outputs": [],
   "source": [
    "# Initialize and populate the FAISS index\n",
    "index = faiss.IndexFlatL2(all_embeddings.shape[1])\n",
    "index.add(all_embeddings)\n",
    "\n",
    "# Save FAISS index for reuse (optional)\n",
    "faiss.write_index(index, 'faiss_index.bin')"
   ]
  },
  {
   "cell_type": "code",
   "execution_count": 26,
   "metadata": {},
   "outputs": [],
   "source": [
    "def retrieve_similar_content(query, k=5):\n",
    "    \"\"\"\n",
    "    Retrieve the top-k most similar content from the FAISS index.\n",
    "    \"\"\"\n",
    "    # Embed the query\n",
    "    query_embedding = embedder.encode([query]).astype('float32')\n",
    "    \n",
    "    # Search the FAISS index\n",
    "    distances, indices = index.search(query_embedding, k)\n",
    "    \n",
    "    # Prepare results\n",
    "    results = []\n",
    "    for idx in indices[0]:\n",
    "        if idx < len(qa_df):\n",
    "            # From Q&A dataset\n",
    "            results.append({\n",
    "                'type': 'Q&A',\n",
    "                'question': qa_df.iloc[idx]['Question'],\n",
    "                'answer': qa_df.iloc[idx]['Answer']\n",
    "            })\n",
    "        else:\n",
    "            # From Notes dataset\n",
    "            note_idx = idx - len(qa_df)\n",
    "            results.append({\n",
    "                'type': 'Note',\n",
    "                'chunk': chunked_notes_df.iloc[note_idx]['Chunk']\n",
    "            })\n",
    "    return results\n"
   ]
  },
  {
   "cell_type": "code",
   "execution_count": 27,
   "metadata": {},
   "outputs": [],
   "source": [
    "def construct_context_for_structure(query, k=3):\n",
    "    \"\"\"\n",
    "    Construct context for structured questions. Only include concise Q&A pairs.\n",
    "    \"\"\"\n",
    "    retrieved = retrieve_similar_content(query, k)\n",
    "    context = []\n",
    "\n",
    "    for item in retrieved:\n",
    "        if item['type'] == 'Q&A':  # Only include Q&A pairs\n",
    "            context.append(f\"Q: {item['question']}\\nA: {item['answer']}\")\n",
    "\n",
    "    # Limit to top 3 entries\n",
    "    return \"\\n\".join(context[:3])\n"
   ]
  },
  {
   "cell_type": "code",
   "execution_count": 28,
   "metadata": {},
   "outputs": [],
   "source": [
    "def construct_context_for_essay(query, k=5):\n",
    "    \"\"\"\n",
    "    Construct context for essay questions. Include the most relevant Q&A pair first, \n",
    "    followed by complementary Note chunks.\n",
    "    \"\"\"\n",
    "    retrieved = retrieve_similar_content(query, k)\n",
    "    context = []\n",
    "\n",
    "    # Add the most relevant Q&A pair (ensure it's the one matching the query)\n",
    "    for item in retrieved:\n",
    "        if item['type'] == 'Q&A' and query.lower() in item['question'].lower():\n",
    "            context.append(f\"Q: {item['question']}\\nA: {item['answer']}\")\n",
    "            break  # Add only the most relevant Q&A pair\n",
    "\n",
    "    # Add complementary Note chunks\n",
    "    for item in retrieved:\n",
    "        if item['type'] == 'Note':\n",
    "            context.append(f\"Note:\\n{item['chunk']}\")\n",
    "\n",
    "    # Limit the context to ensure it's concise and relevant\n",
    "    return \"\\n\".join(context[:5])\n"
   ]
  },
  {
   "cell_type": "code",
   "execution_count": 29,
   "metadata": {},
   "outputs": [],
   "source": [
    "# Load LLaMA model for answer generation from the local folder 'Merged_model'\n",
    "generator = pipeline(\"text-generation\", model=\"D:\\Finetune - Structure and Essay-20241115T045829Z-001\\Finetune - Structure and Essay\\Merged_model\\Merged_model\")"
   ]
  },
  {
   "cell_type": "code",
   "execution_count": 121,
   "metadata": {},
   "outputs": [],
   "source": [
    "def generate_structured_answer(query, k=3, max_words=50):\n",
    "    \"\"\"\n",
    "    Generate structured answers with concise and specific responses.\n",
    "    \"\"\"\n",
    "    # Build context for structured questions\n",
    "    context = construct_context_for_structure(query, k)\n",
    "\n",
    "    # Prompt for structured questions\n",
    "    prompt = (\n",
    "        f\"Question: {query}\\n\\n\"\n",
    "        f\"Context:\\n{context}\\n\\n\"\n",
    "        f\"Answer the question concisely and accurately in 1-2 sentences.\\nAnswer:\"\n",
    "    )\n",
    "\n",
    "    # Adjust max token length\n",
    "    input_length = len(generator.tokenizer(prompt)['input_ids'])\n",
    "    adjusted_max_length = input_length + max_words\n",
    "\n",
    "    # Generate response\n",
    "    response = generator(\n",
    "        prompt,\n",
    "        max_length=adjusted_max_length, \n",
    "        truncation=True, \n",
    "        num_return_sequences=1\n",
    "    )\n",
    "    return response[0][\"generated_text\"]\n"
   ]
  },
  {
   "cell_type": "code",
   "execution_count": 73,
   "metadata": {},
   "outputs": [],
   "source": [
    "def generate_essay_answer(query, k=5, min_words=175, max_words=300):\n",
    "    \"\"\"\n",
    "    Generate essay-style answers with a detailed explanation.\n",
    "    Ensure the response meets the minimum word count and does not exceed the maximum token count.\n",
    "    \"\"\"\n",
    "    # Construct context with improved filtering\n",
    "    context = construct_context_for_essay(query, k) or \"\"\n",
    "\n",
    "    # Check if context is empty and set the prompt accordingly\n",
    "    if not context.strip():\n",
    "        # Fallback prompt when no context is available\n",
    "        prompt = (\n",
    "            f\"Question: {query}\\n\\n\"\n",
    "            f\"Answer the question in detail, providing a well-reasoned and comprehensive explanation. \"\n",
    "            f\"Highlight key features, provide examples, and mention advantages and disadvantages where applicable. \"\n",
    "            f\"Ensure your response is grammatically correct and at least {min_words} words long. \"\n",
    "            f\"Complete your answer and avoid repetition.\\nAnswer:\"\n",
    "        )\n",
    "    else:\n",
    "        # Prompt with context\n",
    "        prompt = (\n",
    "            f\"Question: {query}\\n\\n\"\n",
    "            f\"Context:\\n{context}\\n\\n\"\n",
    "            f\"Answer the question using the provided context. \"\n",
    "            f\"Focus on relevant details from the context and elaborate as needed. \"\n",
    "            f\"Provide clear points and explanations, ensuring your response is at least {min_words} words long and grammatically correct. \"\n",
    "            f\"Highlight key features, examples, and advantages/disadvantages where applicable. \"\n",
    "            f\"Do not repeat the context verbatim; instead, integrate it meaningfully into the answer. \"\n",
    "            f\"Complete your answer and avoid repetition.\\nAnswer:\"\n",
    "        )\n",
    "\n",
    "    # Adjust max token length dynamically\n",
    "    input_length = len(generator.tokenizer(prompt)['input_ids'])\n",
    "    estimated_token_count = int(min_words * 0.75)  # Approximate token count for the minimum word count\n",
    "    adjusted_min_length = input_length + estimated_token_count\n",
    "    adjusted_max_length = input_length + max_words\n",
    "\n",
    "    # Generate response with parameters to ensure clarity and completeness\n",
    "    response = generator(\n",
    "        prompt,\n",
    "        max_length=adjusted_max_length,\n",
    "        min_length=int(adjusted_min_length),\n",
    "        temperature=0.7,         # Controls randomness\n",
    "        top_p=0.85,               # Nucleus sampling for diversity\n",
    "        top_k=40,                # Limits sampling to top 50 tokens\n",
    "        repetition_penalty=1.8,  # Penalizes repeated phrases\n",
    "        truncation=True,\n",
    "        num_return_sequences=1\n",
    "    )\n",
    "\n",
    "    # Extract and clean the generated text\n",
    "    generated_text = response[0][\"generated_text\"]\n",
    "\n",
    "\n",
    "    return generated_text\n"
   ]
  },
  {
   "cell_type": "code",
   "execution_count": 125,
   "metadata": {},
   "outputs": [
    {
     "name": "stderr",
     "output_type": "stream",
     "text": [
      "Setting `pad_token_id` to `eos_token_id`:None for open-end generation.\n"
     ]
    },
    {
     "name": "stdout",
     "output_type": "stream",
     "text": [
      "Structured Answer:\n",
      "Question: What is the structure of DNA?\n",
      "\n",
      "Context:\n",
      "Q: write three main specific characteristics which DNA acting as vital genetic materials in organisms?\n",
      "A: Accurate replication \n",
      "Store hereditary information \n",
      "Transmission from one generation to the other \n",
      "Q: What are the characteristics of DNA molecule for acting as a vital genetic material in organisms?\n",
      "A: Accurate replication of DNA. \n",
      "Its transmission from one generation to the other. \n",
      "Ability to store heredity information. \n",
      "Ability to express heredity information.\n",
      "Q: Explain how structure of DNA differs from structure of RNA.\n",
      "A: The structure of DNA (Deoxyribonucleic Acid) and RNA (Ribonucleic Acid) exhibit fundamental differences that are essential for their distinct biological roles in living organisms.\n",
      "\n",
      "DNA is a polymer made up of deoxyribonucleotides, while RNA consists of ribonucleotides. These nucleotides are the building blocks of both molecules, but their chemical composition differs slightly. In DNA, the sugar component is deoxyribose, while in RNA, it is ribose. This difference in the sugar gives RNA an additional hydroxyl group (-OH) on the 2' carbon of the ribose, which makes RNA more reactive and less stable than DNA.\n",
      "\n",
      "Structurally, DNA is organized into two long polynucleotide chains that spiral around an imaginary axis, forming a well-known double helix structure. These two strands of DNA run in opposite directions, meaning they are anti-parallel. The sugar-phosphate backbone of DNA is positioned on the outside of the helix, while the nitrogenous bases are located on the interior, paired together through hydrogen bonds. The bases in DNA include adenine (A), guanine (G), cytosine (C), and thymine (T). A pairs with T, and G pairs with C, creating complementary base pairing, which stabilizes the double-stranded structure.\n",
      "\n",
      "On the other hand, RNA typically exists as a single polynucleotide chain, lacking the double-stranded helical structure of DNA. RNA has a single sugar-phosphate backbone. Unlike DNA, RNA contains the nitrogenous base uracil (U) instead of thymine. Thus, the nitrogenous bases in RNA are adenine (A), guanine (G), cytosine (C), and uracil (U). Despite being single-stranded, RNA can form hydrogen bonds either with another RNA molecule or within the same RNA molecule, which allows it to fold into complex three-dimensional shapes. This base pairing plays an essential role in RNA's function, as it is critical for processes such as protein synthesis. For instance, during translation, tRNA (transfer RNA) forms hydrogen bonds with mRNA (messenger RNA) to ensure the correct amino acid is added to the growing polypeptide chain.\n",
      "\n",
      "In conclusion, while both DNA and RNA are nucleic acids, they differ significantly in their structure and function. DNA's double-helical, stable structure enables it to store genetic information over long periods, while RNA's single-stranded, flexible structure allows it to take on a variety of roles, including acting as a messenger, catalyst, and regulator in gene expression. These structural distinctions are crucial to their respective roles in the cell.\n",
      "\n",
      "Answer the question concisely and accurately in 1-2 sentences.\n",
      "Answer: DNA is a polymer made up of deoxyribonucleotides, while RNA consists of ribonucleotides. These nucleotides are the building blocks of both molecules, but their chemical composition differs slightly. In DNA, the sugar component is deoxyribose, while in RNA, it is ribose. This difference in the sugar gives RNA an additional hydroxyl group (-OH) on the 2' carbon of the ribose, which makes RNA more reactive and less stable\n"
     ]
    }
   ],
   "source": [
    "structured_query = \"What is the structure of DNA?\"\n",
    "structured_answer = generate_structured_answer(structured_query, k=3, max_words=100)\n",
    "print(\"Structured Answer:\")\n",
    "print(structured_answer)\n"
   ]
  },
  {
   "cell_type": "code",
   "execution_count": 126,
   "metadata": {},
   "outputs": [
    {
     "name": "stderr",
     "output_type": "stream",
     "text": [
      "Setting `pad_token_id` to `eos_token_id`:None for open-end generation.\n"
     ]
    },
    {
     "name": "stdout",
     "output_type": "stream",
     "text": [
      "Structured Answer:\n",
      "Question: State two differences between effector cells and memory cells?\n",
      "\n",
      "Context:\n",
      "Q: State two differences between effector cells and memory cells?\n",
      "A: Effector cells have a short life span while memory cells have a long life span.\n",
      "Effector cells create primary immunity responses while memory cells create secondary immunity responses.\n",
      "Q: State the basic features that all cells share?\n",
      "A: Al cells are bounded by a plasma membrane, which is selective barrier. \n",
      "Within the cell have a semifluid, jelly like substance which is called cytosol. \n",
      "Subcellular components are suspended within the cytosol. \n",
      "They carry DNA as genetic materials. \n",
      "Ribosomes are found in all cells. \n",
      "Q: Which cell types compose the nerve tissue?\n",
      "A: Neurons \n",
      "Glial cells \n",
      "\n",
      "Answer the question concisely and accurately in 1-2 sentences.\n",
      "Answer: Neurons are the only cell type that is found in the central nervous system. Neurons are the only cell type that is found in the central nervous system. Neurons are the only cell type that is found in the central nervous system.\n"
     ]
    }
   ],
   "source": [
    "structured_query = \"State two differences between effector cells and memory cells?\"\n",
    "structured_answer = generate_structured_answer(structured_query, k=3, max_words=100)\n",
    "print(\"Structured Answer:\")\n",
    "print(structured_answer)\n"
   ]
  },
  {
   "cell_type": "code",
   "execution_count": 109,
   "metadata": {},
   "outputs": [
    {
     "name": "stderr",
     "output_type": "stream",
     "text": [
      "Setting `pad_token_id` to `eos_token_id`:None for open-end generation.\n"
     ]
    },
    {
     "name": "stdout",
     "output_type": "stream",
     "text": [
      "Structured Answer:\n",
      "Question: State the respiratory structures found in Scorpion\n",
      "\n",
      "Context:\n",
      "Q: State the respiratory structures found in Scorpion\n",
      "A: Book lung\n",
      "Q: Name the respiratory structure of the Scorpion\n",
      "A: Book lung\n",
      "Q: Name the respiratory structure Scorpion:\n",
      "A: Book lung\n",
      "\n",
      "Answer the question concisely and accurately in 1-2 sentences.\n",
      "Answer: Book lung\n"
     ]
    }
   ],
   "source": [
    "structured_query = \"State the respiratory structures found in Scorpion\"\n",
    "structured_answer = generate_structured_answer(structured_query, k=3, max_words=50)\n",
    "print(\"Structured Answer:\")\n",
    "print(structured_answer)\n"
   ]
  },
  {
   "cell_type": "code",
   "execution_count": 74,
   "metadata": {},
   "outputs": [
    {
     "name": "stderr",
     "output_type": "stream",
     "text": [
      "Setting `pad_token_id` to `eos_token_id`:None for open-end generation.\n"
     ]
    },
    {
     "name": "stdout",
     "output_type": "stream",
     "text": [
      "Essay Answer:\n",
      "Question: Explain how the evolution of C4 path way established to minimize the photo respiration and describe the C4 path way.\n",
      "\n",
      "Context:\n",
      "Q: Explain how the evolution of C4 path way established to minimize the photo respiration and describe the C4 path way.\n",
      "A: The evolution of the C4 pathway represents a remarkable adaptation in plants, particularly in response to the challenges posed by high temperatures, intense light, and dry climates. In C3 plants, these environmental conditions often lead to a wasteful process known as photorespiration, where the enzyme ribulose bisphosphate carboxylase/oxygenase (RuBisCO) reacts with oxygen instead of carbon dioxide (CO2), resulting in a significant loss of carbon and energy for the plant (1-4). To mitigate this issue, certain plants have developed alternative mechanisms to concentrate CO2 around RuBisCO, leading to the establishment of the C4 pathway (5-6).\n",
      "\n",
      "The C4 pathway is characterized by a series of anatomical and biochemical modifications that allow for efficient photosynthesis even under unfavorable conditions (7-8). This pathway operates through a division of labor between two distinct types of cells: mesophyll cells and bundle sheath cells (9). The bundle sheath cells are specialized and contain an enlarged number of organelles, particularly chloroplasts, enabling them to play a crucial role in the photosynthetic process (10). Additionally, numerous plasmodesmata connect these two cell types, facilitating communication and transport of metabolites (11-12).\n",
      "\n",
      "In the structure known as Kranz anatomy, the bundle sheath cells encircle the vascular bundles and are surrounded by mesophyll cells (13-14). This arrangement is essential for the C4 pathway, as it allows RuBisCO to operate at high concentrations of CO2, enhancing its efficiency compared to C3 plants (15-16). By utilizing a CO2 concentrating mechanism, C4 plants can effectively acquire more CO2 while keeping their stomata more closed, thereby minimizing water loss through transpiration (17-18).\n",
      "\n",
      "The C4 pathway of photosynthesis involves two distinct fixation steps (19). Initially, CO2 fixation occurs in the cytosol through the action of phosphoenolpyruvate (PEP), with the enzyme PEP carboxylase catalyzing this reaction (20-21). The product of this reaction is oxaloacetate, a four-carbon compound (22), which is quickly converted into malate, a stable compound that can diffuse into the bundle sheath cells via plasmodesmata (24-28).\n",
      "\n",
      "Within the bundle sheath cells, malate undergoes decarboxylation, releasing CO2 (29-30). This released CO2 is then fixed a second time by RuBisCO in the chloroplasts of the bundle sheath cells (31-33). After releasing CO2, malate is converted into pyruvate, a three-carbon compound (34-35). Pyruvate then diffuses back into the mesophyll cells through plasmodesmata (36), where it receives a phosphate group from ATP, regenerating PEP (37-38). This regeneration of PEP allows the cycle to continue, enabling the plant to maintain a high concentration of CO2 around RuBisCO and optimizing photosynthesis even under conditions that would normally favor photorespiration.\n",
      "\n",
      "In summary, the C4 pathway is a sophisticated adaptation that has evolved in certain plant species to overcome the limitations of the C3 photosynthetic pathway. By utilizing specialized cell structures and enzymatic processes, C4 plants can efficiently fix CO2 while minimizing water loss, thereby thriving in environments characterized by high temperatures and limited water availability. This evolutionary innovation not only enhances the survival of these plants but also contributes significantly to agricultural productivity in many regions of the world.\n",
      "\n",
      "Answer the question using the provided context. Focus on relevant details from the context and elaborate as needed. Provide clear points and explanations, ensuring your response is at least 175 words long and grammatically correct. Highlight key features, examples, and advantages/disadvantages where applicable. Do not repeat the context verbatim; instead, integrate it meaningfully into the answer. Complete your answer and avoid repetition.\n",
      "Answer: To establish why C₄ Pathway was adapted during Evolution:\n",
      "\n",
      "C₃ Plants use Ribulo Bis Phosphat Carboxydases Oxygen Reaction\n",
      "• It releases O₂ rather than fixing Carbon Dioxide\n",
      "\n",
      "This results in Photo Respiation & Loss Of Energy For Plant Growth \n",
      "And Causes A Wastage Factor That Is Called “PhotoRespiraion”\n",
      "So We Need An Alternative Mechanism Which Can Fix Co² Around Rubisco \n",
      "\n",
      "We Get Such A Way Through RUBISCO Enzyme Activity Under Bundle Sheaths Cells Using Some Specialized Cell Structures And Modification On Them Like Plasmdosomes Connective Tissue Between Mesophylic/Bundle Sheets\n"
     ]
    }
   ],
   "source": [
    "essay_query = \"Explain how the evolution of C4 path way established to minimize the photo respiration and describe the C4 path way.\"\n",
    "essay_answer = generate_essay_answer(essay_query, k=5, max_words=300)\n",
    "print(\"Essay Answer:\")\n",
    "print(essay_answer)"
   ]
  },
  {
   "cell_type": "code",
   "execution_count": 123,
   "metadata": {},
   "outputs": [
    {
     "name": "stderr",
     "output_type": "stream",
     "text": [
      "Setting `pad_token_id` to `eos_token_id`:None for open-end generation.\n"
     ]
    },
    {
     "name": "stdout",
     "output_type": "stream",
     "text": [
      "Structured Answer:\n",
      "Question: What are the main sources of drinking water contamination?\n",
      "\n",
      "Context:\n",
      "Q: What are the major portals of pathogenic microorganisms in to human body ?\n",
      "A: Gastrointestinal tract\n",
      "Repiratory tract\n",
      "Genito - urinary tract \n",
      "Wounds on skin\n",
      "Q: What are the major functions of water in human saliva?\n",
      "A: Liquify food\n",
      "Provide watery medium for chemical digestion\n",
      "Aids in taste reception\n",
      "Q: Name the factors which affects water potential ?\n",
      "A: Solute concentration \n",
      "Applied pressure \n",
      "\n",
      "Answer the question concisely and accurately in 1-2 sentences.\n",
      "Answer: The main sources of drinking water contamination are the following:\n",
      "1. Human sewage\n",
      "2. Rainwater\n",
      "3. Surface water\n",
      "4. Wastewater from industrial and domestic sources\n",
      "\n",
      "Q: What are the main sources of drinking water contamination?\n",
      "A\n"
     ]
    }
   ],
   "source": [
    "structured_query = \"What are the main sources of drinking water contamination?\"\n",
    "structured_answer = generate_structured_answer(structured_query, k=3, max_words=50)\n",
    "print(\"Structured Answer:\")\n",
    "print(structured_answer)"
   ]
  },
  {
   "cell_type": "code",
   "execution_count": 122,
   "metadata": {},
   "outputs": [
    {
     "name": "stderr",
     "output_type": "stream",
     "text": [
      "Setting `pad_token_id` to `eos_token_id`:None for open-end generation.\n"
     ]
    },
    {
     "name": "stdout",
     "output_type": "stream",
     "text": [
      "Structured Answer:\n",
      "Question: What are the main steps in urban water treatment?\n",
      "\n",
      "Context:\n",
      "Q: What happens during the primary treatment stage of wastewater treatment?\n",
      "A: Large floating materials, sand, oil, and grease are removed; no biological activity takes place, 25-35% of organic matter is removed, and solid matter settles.\n",
      "Q: Briefly explain how filtration step is done in the process of urban drinking water treatment.\n",
      "A: Water is passed through the sand beds fine sand \n",
      "surface absorption on to the sand particles \n",
      "(additionally) use of activated carbon for the removal of toxic chemicals\n",
      "Q: State the major method of water entering from soil solution to root hair cells?\n",
      "A: Osmosis\n",
      "\n",
      "Answer the question concisely and accurately in 1-2 sentences.\n",
      "Answer: Osmosis\n",
      "Explanation: \n",
      "The major method of water entering from soil solution to root hair cells is osmosis. Osmosis is a process by which water moves from a region of higher solute concentration to a region of lower solute\n"
     ]
    }
   ],
   "source": [
    "structured_query = \"What are the main steps in urban water treatment?\"\n",
    "structured_answer = generate_structured_answer(structured_query, k=3, max_words=50)\n",
    "print(\"Structured Answer:\")\n",
    "print(structured_answer)"
   ]
  },
  {
   "cell_type": "code",
   "execution_count": 66,
   "metadata": {},
   "outputs": [
    {
     "name": "stderr",
     "output_type": "stream",
     "text": [
      "Setting `pad_token_id` to `eos_token_id`:None for open-end generation.\n"
     ]
    },
    {
     "name": "stdout",
     "output_type": "stream",
     "text": [
      "Essay Answer:\n",
      "Question: Explain the structure and function of the human ear.\n",
      "\n",
      "Answer the question in detail, providing a well-reasoned and comprehensive explanation. Highlight key features, provide examples, and mention advantages and disadvantages where applicable. Ensure your response is grammatically correct and at least 175 words long. Complete your answer and avoid repetition.\n",
      "Answer: The outer part or auricle contains several sensory structures that detect sounds from various directions such as pinnae (the visible external parts) which are made up by two lobes called antitragus lobe & posterolateral region known collectively referred to simply as 'pinne'. It has four muscles namely superior transverse muscle, inferior longitudinal muscule\n",
      "The middle section also consists ot three semicircular canals with their respective cupula's on either side alongwith utricular membrane inside it these all work together forming an organ for balance& stabilization.\n",
      "It receives information about sound intensity directly via auditory receptors present here These act like microphones receiving vibrations produced due to loud noise.The cochlea forms another important component when we talk abotu hearing.This acts much similarly t o how our brain works -by picking signals out form noises around us.it converts them into electric impulses transmitted through nerve cells located within this membranous tube.These then travel down hair cell bundle towards base plate.They do not receive any input signal while they lie stationary but once activated get stimulated producing action potentials traveling back toward spiral groove.Its inner end becomes more curved than its outside so does same thing happens there too-it makes waves similar way ocean waveforms make ripples.In case one moves away i.e., changes position,the motion produces additional curvature making movement across length thus causes further displacement.At last,it reaches topmost point getting completely curled-back again.Receives feedback info regarding location/position/speed etc..\n",
      "\n"
     ]
    }
   ],
   "source": [
    "essay_query = \"Explain the structure and function of the human ear.\"\n",
    "essay_answer = generate_essay_answer(essay_query, k=5, max_words=300)\n",
    "print(\"Essay Answer:\")\n",
    "print(essay_answer)"
   ]
  },
  {
   "cell_type": "code",
   "execution_count": 75,
   "metadata": {},
   "outputs": [
    {
     "name": "stderr",
     "output_type": "stream",
     "text": [
      "Setting `pad_token_id` to `eos_token_id`:None for open-end generation.\n"
     ]
    },
    {
     "name": "stdout",
     "output_type": "stream",
     "text": [
      "Essay Answer:\n",
      "Question: Explain the differences between open and closed circulatory systems.\n",
      "\n",
      "Answer the question in detail, providing a well-reasoned and comprehensive explanation. Highlight key features, provide examples, and mention advantages and disadvantages where applicable. Ensure your response is grammatically correct and at least 175 words long. Complete your answer and avoid repetition.\n",
      "Answer: The difference lies mainly with oxygen supply to cells from blood through vessels that are enclosed within an organ or tissue called as vascular system (blood vessel). In contrast,\n",
      "in case of animals which have no internal organs like heart etc., there exists only one type\n",
      "of circulation i.e.the arterial-venous circuit wherein deoxygenated red corpuscles reach their destination by way\n",
      "\n",
      "#1 Open Circulation System:\n",
      "\n",
      "• It consists on many small tubes known collectively referred “capillaries”.\n",
      "These capillary networks form network-like structure throughout body tissues including all major visceral structures such us lungs,\n",
      "\n",
      "liver, kidneys & intestine.\n",
      "\n",
      "The function here can be explained simply if we consider two main components -arteries &\n",
      "veins. Arterial end has its origin near centre point while venular ends come together forming circle around central artery thus creating loop for complete round trip flow.\n",
      "Blood passes continuously into veins returning back towards left ventricle via coronary sinus/ hepatic vein whereas it enters arteries directly after passing out valves leading toward right atrium / pulmonary trunk /\n",
      "aorta leaving again thru smaller branches ending up inside each respective lobe before entering next chamber – great cardiac septum followed finally reaching smallest chambers –\n",
      "coronary sinuses/blood venules/lungs/tracheobronchus/small bronchi/cavities then enter large trunks named aoic arches/diaphragmatic opening/pulmonary stumps/middle cerebral arcade/thoracic ducts/superior mesenterie\n"
     ]
    }
   ],
   "source": [
    "essay_query = \"Explain the differences between open and closed circulatory systems.\"\n",
    "essay_answer = generate_essay_answer(essay_query, k=5, max_words=300)\n",
    "print(\"Essay Answer:\")\n",
    "print(essay_answer)"
   ]
  }
 ],
 "metadata": {
  "kernelspec": {
   "display_name": ".venv",
   "language": "python",
   "name": "python3"
  },
  "language_info": {
   "codemirror_mode": {
    "name": "ipython",
    "version": 3
   },
   "file_extension": ".py",
   "mimetype": "text/x-python",
   "name": "python",
   "nbconvert_exporter": "python",
   "pygments_lexer": "ipython3",
   "version": "3.10.4"
  }
 },
 "nbformat": 4,
 "nbformat_minor": 2
}
