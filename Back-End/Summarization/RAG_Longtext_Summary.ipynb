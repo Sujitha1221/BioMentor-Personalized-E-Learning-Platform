{
 "cells": [
  {
   "cell_type": "code",
   "execution_count": 16,
   "metadata": {},
   "outputs": [],
   "source": [
    "import pandas as pd"
   ]
  },
  {
   "cell_type": "code",
   "execution_count": 17,
   "metadata": {},
   "outputs": [],
   "source": [
    "# Load the notes dataset\n",
    "notes_df = pd.read_csv('../Model-Training/biology_information_retrieval_sample.csv', encoding='ISO-8859-1')  \n",
    "notes_content = notes_df['Text Content'].tolist()\n",
    "notes_topics = notes_df['Topic'].tolist()\n",
    "notes_subtopics = notes_df['Sub-topic'].tolist()"
   ]
  },
  {
   "cell_type": "code",
   "execution_count": 19,
   "metadata": {},
   "outputs": [],
   "source": [
    "# Load the summarization dataset\n",
    "summary_df = pd.read_csv('../Model-Training/bio_summary_keywords.csv', encoding='ISO-8859-1')\n",
    "long_texts = summary_df['Long Text'].tolist()\n",
    "summaries = summary_df['Summary'].tolist()\n",
    "keywords = summary_df['Keywords'].tolist()"
   ]
  },
  {
   "cell_type": "code",
   "execution_count": 20,
   "metadata": {},
   "outputs": [
    {
     "name": "stdout",
     "output_type": "stream",
     "text": [
      "Requirement already satisfied: sentence-transformers in c:\\users\\dharane\\appdata\\local\\programs\\python\\python312\\lib\\site-packages (3.3.1)\n",
      "Requirement already satisfied: faiss-cpu in c:\\users\\dharane\\appdata\\local\\programs\\python\\python312\\lib\\site-packages (1.9.0.post1)\n",
      "Requirement already satisfied: transformers<5.0.0,>=4.41.0 in c:\\users\\dharane\\appdata\\local\\programs\\python\\python312\\lib\\site-packages (from sentence-transformers) (4.42.4)\n",
      "Requirement already satisfied: tqdm in c:\\users\\dharane\\appdata\\local\\programs\\python\\python312\\lib\\site-packages (from sentence-transformers) (4.66.4)\n",
      "Requirement already satisfied: torch>=1.11.0 in c:\\users\\dharane\\appdata\\local\\programs\\python\\python312\\lib\\site-packages (from sentence-transformers) (2.3.1)\n",
      "Requirement already satisfied: scikit-learn in c:\\users\\dharane\\appdata\\local\\programs\\python\\python312\\lib\\site-packages (from sentence-transformers) (1.5.2)\n",
      "Requirement already satisfied: scipy in c:\\users\\dharane\\appdata\\local\\programs\\python\\python312\\lib\\site-packages (from sentence-transformers) (1.14.1)\n",
      "Requirement already satisfied: huggingface-hub>=0.20.0 in c:\\users\\dharane\\appdata\\local\\programs\\python\\python312\\lib\\site-packages (from sentence-transformers) (0.24.0)\n",
      "Requirement already satisfied: Pillow in c:\\users\\dharane\\appdata\\local\\programs\\python\\python312\\lib\\site-packages (from sentence-transformers) (10.4.0)\n",
      "Requirement already satisfied: numpy<3.0,>=1.25.0 in c:\\users\\dharane\\appdata\\local\\programs\\python\\python312\\lib\\site-packages (from faiss-cpu) (1.26.4)\n",
      "Requirement already satisfied: packaging in c:\\users\\dharane\\appdata\\local\\programs\\python\\python312\\lib\\site-packages (from faiss-cpu) (24.1)\n",
      "Requirement already satisfied: filelock in c:\\users\\dharane\\appdata\\local\\programs\\python\\python312\\lib\\site-packages (from huggingface-hub>=0.20.0->sentence-transformers) (3.15.4)\n",
      "Requirement already satisfied: fsspec>=2023.5.0 in c:\\users\\dharane\\appdata\\local\\programs\\python\\python312\\lib\\site-packages (from huggingface-hub>=0.20.0->sentence-transformers) (2024.6.1)\n",
      "Requirement already satisfied: pyyaml>=5.1 in c:\\users\\dharane\\appdata\\local\\programs\\python\\python312\\lib\\site-packages (from huggingface-hub>=0.20.0->sentence-transformers) (6.0.1)\n",
      "Requirement already satisfied: requests in c:\\users\\dharane\\appdata\\local\\programs\\python\\python312\\lib\\site-packages (from huggingface-hub>=0.20.0->sentence-transformers) (2.32.3)\n",
      "Requirement already satisfied: typing-extensions>=3.7.4.3 in c:\\users\\dharane\\appdata\\local\\programs\\python\\python312\\lib\\site-packages (from huggingface-hub>=0.20.0->sentence-transformers) (4.12.2)\n",
      "Requirement already satisfied: sympy in c:\\users\\dharane\\appdata\\local\\programs\\python\\python312\\lib\\site-packages (from torch>=1.11.0->sentence-transformers) (1.13.1)\n",
      "Requirement already satisfied: networkx in c:\\users\\dharane\\appdata\\local\\programs\\python\\python312\\lib\\site-packages (from torch>=1.11.0->sentence-transformers) (3.3)\n",
      "Requirement already satisfied: jinja2 in c:\\users\\dharane\\appdata\\local\\programs\\python\\python312\\lib\\site-packages (from torch>=1.11.0->sentence-transformers) (3.1.4)\n",
      "Requirement already satisfied: mkl<=2021.4.0,>=2021.1.1 in c:\\users\\dharane\\appdata\\local\\programs\\python\\python312\\lib\\site-packages (from torch>=1.11.0->sentence-transformers) (2021.4.0)\n",
      "Requirement already satisfied: colorama in c:\\users\\dharane\\appdata\\local\\programs\\python\\python312\\lib\\site-packages (from tqdm->sentence-transformers) (0.4.6)\n",
      "Requirement already satisfied: regex!=2019.12.17 in c:\\users\\dharane\\appdata\\local\\programs\\python\\python312\\lib\\site-packages (from transformers<5.0.0,>=4.41.0->sentence-transformers) (2024.5.15)\n",
      "Requirement already satisfied: safetensors>=0.4.1 in c:\\users\\dharane\\appdata\\local\\programs\\python\\python312\\lib\\site-packages (from transformers<5.0.0,>=4.41.0->sentence-transformers) (0.4.3)\n",
      "Requirement already satisfied: tokenizers<0.20,>=0.19 in c:\\users\\dharane\\appdata\\local\\programs\\python\\python312\\lib\\site-packages (from transformers<5.0.0,>=4.41.0->sentence-transformers) (0.19.1)\n",
      "Requirement already satisfied: joblib>=1.2.0 in c:\\users\\dharane\\appdata\\local\\programs\\python\\python312\\lib\\site-packages (from scikit-learn->sentence-transformers) (1.4.2)\n",
      "Requirement already satisfied: threadpoolctl>=3.1.0 in c:\\users\\dharane\\appdata\\local\\programs\\python\\python312\\lib\\site-packages (from scikit-learn->sentence-transformers) (3.5.0)\n",
      "Requirement already satisfied: intel-openmp==2021.* in c:\\users\\dharane\\appdata\\local\\programs\\python\\python312\\lib\\site-packages (from mkl<=2021.4.0,>=2021.1.1->torch>=1.11.0->sentence-transformers) (2021.4.0)\n",
      "Requirement already satisfied: tbb==2021.* in c:\\users\\dharane\\appdata\\local\\programs\\python\\python312\\lib\\site-packages (from mkl<=2021.4.0,>=2021.1.1->torch>=1.11.0->sentence-transformers) (2021.13.0)\n",
      "Requirement already satisfied: MarkupSafe>=2.0 in c:\\users\\dharane\\appdata\\local\\programs\\python\\python312\\lib\\site-packages (from jinja2->torch>=1.11.0->sentence-transformers) (2.1.5)\n",
      "Requirement already satisfied: charset-normalizer<4,>=2 in c:\\users\\dharane\\appdata\\local\\programs\\python\\python312\\lib\\site-packages (from requests->huggingface-hub>=0.20.0->sentence-transformers) (3.3.2)\n",
      "Requirement already satisfied: idna<4,>=2.5 in c:\\users\\dharane\\appdata\\local\\programs\\python\\python312\\lib\\site-packages (from requests->huggingface-hub>=0.20.0->sentence-transformers) (3.7)\n",
      "Requirement already satisfied: urllib3<3,>=1.21.1 in c:\\users\\dharane\\appdata\\local\\programs\\python\\python312\\lib\\site-packages (from requests->huggingface-hub>=0.20.0->sentence-transformers) (2.2.2)\n",
      "Requirement already satisfied: certifi>=2017.4.17 in c:\\users\\dharane\\appdata\\local\\programs\\python\\python312\\lib\\site-packages (from requests->huggingface-hub>=0.20.0->sentence-transformers) (2024.7.4)\n",
      "Requirement already satisfied: mpmath<1.4,>=1.1.0 in c:\\users\\dharane\\appdata\\local\\programs\\python\\python312\\lib\\site-packages (from sympy->torch>=1.11.0->sentence-transformers) (1.3.0)\n",
      "Note: you may need to restart the kernel to use updated packages.\n"
     ]
    },
    {
     "name": "stderr",
     "output_type": "stream",
     "text": [
      "\n",
      "[notice] A new release of pip is available: 23.2.1 -> 24.3.1\n",
      "[notice] To update, run: python.exe -m pip install --upgrade pip\n"
     ]
    }
   ],
   "source": [
    "pip install sentence-transformers faiss-cpu"
   ]
  },
  {
   "cell_type": "code",
   "execution_count": 21,
   "metadata": {},
   "outputs": [],
   "source": [
    "from sentence_transformers import SentenceTransformer\n",
    "import numpy as np\n",
    "import faiss\n",
    "\n",
    "# Load embedding model\n",
    "embedder = SentenceTransformer('all-MiniLM-L6-v2')\n",
    "\n",
    "# Generate embeddings for summarization dataset (long texts)\n",
    "summary_embeddings = embedder.encode(long_texts)\n",
    "\n",
    "# Generate embeddings for notes dataset\n",
    "notes_embeddings = embedder.encode(notes_content)\n",
    "\n",
    "# Combine all content and embeddings for FAISS indexing\n",
    "all_content = long_texts + notes_content\n",
    "all_embeddings = np.concatenate([summary_embeddings, notes_embeddings], axis=0)\n",
    "\n",
    "# Convert embeddings to a float32 NumPy array\n",
    "all_embeddings_array = np.array(all_embeddings).astype(\"float32\")\n",
    "\n",
    "# Create and populate the FAISS index\n",
    "common_index = faiss.IndexFlatL2(all_embeddings_array.shape[1])\n",
    "common_index.add(all_embeddings_array)"
   ]
  },
  {
   "cell_type": "code",
   "execution_count": null,
   "metadata": {},
   "outputs": [],
   "source": [
    "from transformers import AutoTokenizer, AutoModelForSeq2SeqLM\n",
    "\n",
    "# Path to the fine-tuned model\n",
    "model_path = 'D:/Downloads/RP/Summarization/flan_t5_finetuned_model-20241119T102614Z-001/flan_t5_finetuned_model' \n",
    "\n",
    "# Load the tokenizer and model\n",
    "tokenizer = AutoTokenizer.from_pretrained(model_path)\n",
    "model = AutoModelForSeq2SeqLM.from_pretrained(model_path)\n"
   ]
  },
  {
   "cell_type": "code",
   "execution_count": 22,
   "metadata": {},
   "outputs": [],
   "source": [
    "def postprocess_summary(summary):\n",
    "    \"\"\"Capitalize the first letter of each sentence.\"\"\"\n",
    "    summary = summary.strip()\n",
    "\n",
    "    # Capitalize first letter of each sentence\n",
    "    sentences = summary.split(\". \")  # Split on \". \" assuming sentences end with periods\n",
    "    sentences = [s.strip().capitalize() for s in sentences if s]\n",
    "\n",
    "    # Rejoin sentences with proper spacing and punctuation\n",
    "    summary = \". \".join(sentences).strip()\n",
    "\n",
    "    # Ensure final punctuation\n",
    "    if summary and summary[-1] not in \".!?\":\n",
    "        summary += \".\"\n",
    "\n",
    "    return summary\n"
   ]
  },
  {
   "cell_type": "code",
   "execution_count": 23,
   "metadata": {},
   "outputs": [],
   "source": [
    "def generate_summary_for_long_text(long_text, min_words=150, max_words=350):\n",
    "    from textwrap import wrap\n",
    "\n",
    "    # function to chunk text\n",
    "    def chunk_text(text, max_tokens=500):\n",
    "        words = text.split()\n",
    "        chunks = [' '.join(words[i:i + max_tokens]) for i in range(0, len(words), max_tokens)]\n",
    "        return chunks\n",
    "\n",
    "    # Check if input exceeds the max token limit\n",
    "    max_input_words = 390  # ~512 tokens\n",
    "    if len(long_text.split()) > max_input_words:\n",
    "        # Chunk the input into smaller parts\n",
    "        chunks = chunk_text(long_text, max_tokens=max_input_words)\n",
    "\n",
    "        # Generate a summary for each chunk and combine the results\n",
    "        summaries = [generate_summary_for_long_text(chunk, min_words, max_words) for chunk in chunks]\n",
    "        combined_summary = \" \".join(summaries)\n",
    "\n",
    "        # Ensure the combined summary fits within the final word range\n",
    "        return truncate_to_word_count(combined_summary, max_words)\n",
    "\n",
    "    # For shorter inputs, generate the summary directly\n",
    "    prompt = (\n",
    "        f\"Generate a concise, well-structured, and grammatically correct summary for the following content:\\n\\n\"\n",
    "        f\"{long_text}\\n\\nSummary:\"\n",
    "    )\n",
    "    inputs = tokenizer(prompt, return_tensors=\"pt\", max_length=512, truncation=True)\n",
    "    summary_ids = model.generate(\n",
    "        inputs[\"input_ids\"],\n",
    "        max_length=max_words * 2,   # Allow for token-to-word conversion (~1.3x)\n",
    "        min_length=min_words,      # Enforce minimum token count\n",
    "        length_penalty=1.2,\n",
    "        num_beams=4,\n",
    "        repetition_penalty=2.0,\n",
    "        early_stopping=True\n",
    "    )\n",
    "    summary = tokenizer.decode(summary_ids[0], skip_special_tokens=True)\n",
    "    summary = postprocess_summary(summary)\n",
    "\n",
    "    # Truncate summary to fit exact word count range\n",
    "    return truncate_to_word_count(summary, max_words)\n",
    "\n",
    "def truncate_to_word_count(text, max_words):\n",
    "    \"\"\"Ensure the summary fits within the desired word count range.\"\"\"\n",
    "    words = text.split()\n",
    "    if len(words) > max_words:\n",
    "        return \" \".join(words[:max_words]) + ('.' if text[-1] not in '.!?' else '')\n",
    "    return text\n"
   ]
  },
  {
   "cell_type": "code",
   "execution_count": 25,
   "metadata": {},
   "outputs": [],
   "source": [
    "# Test with a long text\n",
    "sample_long_text = \"\"\"\n",
    "Human ear is divided into three parts; the outer ear, middle ear and inner ear.\n",
    "Outer wear consists of the piano and auditory canal. Auditory canal is a slightly “S” shaped tube and\n",
    "lined by hairy skin with numerous modified sweat glands which secrete ear wax. The auditory canal\n",
    "extends to the tympanic membrane which is located in between the middle and the outer wear.\n",
    "Middle ear (tympanic cavity) is an air-filled cavity within the temporal bone. It is lined with simple\n",
    "epithelium. In the medial wall of the middle ear, there are two openings called oval window and\n",
    "round window. Oval window is covered by a small bone called stapes. The round window is covered\n",
    "by a fine fibrous tissue. Three very small bones (ear ossicles) called malleus, incus and stapes\n",
    "extend across the middle ear from tympanic membrane to the oval window. They form movable\n",
    "joints with each other and the medial wall of the cavity at the oval window. Malleus 1s in contact\n",
    "with the tympanic membrane and form a movable joint with the incus. Incus articulates with the\n",
    "stapes which fit with the oval window. A long tube called Eustachian tube connects the middle\n",
    "ear to the pharynx. \n",
    "Inner ear is formed from a network of channels and cavities in temporal bone which are called\n",
    "bony labyrinth. Within the bony labyrinth, a network of fluid filled membranes called membranous\n",
    "labyrinth is present which lines and fills the bony labyrinth. The inner ear is composed of three main\n",
    "regions: vestibule, three semicircular canals and cochlea. Vestibule is the expanded part near\n",
    "the middle ear. Oval and round windows are present in its lateral walls. The vestibular contains two\n",
    "membranous sacs called utricle and saccule. Semicircular canals are three tubes arranged at\n",
    "right angles to one another so that one is situated in each of the three planes of space. They are\n",
    "continuous with the vestibule. Cochlea is a coiled structure with a broad base which is continuous\n",
    "with the vestibule. Cochlea has three compartments: an upper vestibular canal, a lower tympanic\n",
    "canal and middle cochlear duct which is a small canal that separates the upper and lower canals.\n",
    "Vestibular canal originates at the oval window and the tympanic canal ends at the round window. The\n",
    "two canals are continuous with each other and filled with perilymph. The cochlear duct is a part\n",
    "of the membranous labyrinth and filled with endolymph. The floor of the cochlear duct is called\n",
    "the basilar membrane which bears the organ of Corti (spiral organ). It contains supporting cells\n",
    "and specialized cochlear hair cells containing mechanoreceptors (auditory receptors) of the ear.\n",
    "Hairs of the cochlear hair cells project into the cochlear duct. Many hairs are in contact with the\n",
    "tectorial membrane that hangs over the organ of Corti. Hair cells synapse with the dendrites of\n",
    "sensory neurons that combine to form the auditory nerve which transmits auditory information\n",
    "to the brain. \n",
    "\n",
    "Functions of the human ear\n",
    "\n",
    "Hearing\n",
    "\n",
    "Vibrating objects produce pressure waves in the surrounding air. In hearing, the ear transduces\n",
    "these pressure waves (mechanical stimulus) to changing membrane potential leading to generation\n",
    "of nerve impulses that are transmitted to the brain which perceives as sound.\n",
    "The outer wear collects and concentrates the sound waves and directs them along the auditory\n",
    "canal towards the tympanic membrane. This causes the tympanic membrane to vibrate. Tympanic\n",
    "membrane vibrations are transmitted and amplified through the middle ear by the movement of\n",
    "three jointed ear ossicles.\n",
    "The ear ossicles transmit the vibrations to the oval window which is located on the membrane\n",
    "of the cochlear surface. When the stapes vibrates against the oval window, pressure waves are\n",
    "created in the perilymph inside the cochlea. Most fluid pressure waves in the vestibular canal\n",
    "are transmitted to the endolymph of cochlea duct which push down the basilar membrane. As a\n",
    "result, the basilar membrane and attached hair cells vibrate up and down. This causes bending of\n",
    "hair projecting from the hair cell against the fixed tectorial membrane which lies above the hair\n",
    "cells. This results in the stimulation of auditory receptors in the auditory hair cells which lead to\n",
    "generation of nerve impulses. These nerve impulses are passed through the auditory nerve to the\n",
    "auditory area of the brain (temporal lobe of the cerebrum) for sound perception.\n",
    "After the sound perception, the fluid wave is finally dissipated into the middle ear by vibration of\n",
    "the membrane of the round window. The Eustachian tube maintains the air pressure on both sides of\n",
    "tympanic membrane at the atmospheric pressure level.\n",
    "Equilibrium\n",
    "Semicircular canals and vestibule located in the inner ear provide information about the position\n",
    "of the head in space and contribute to maintain the posture and balance.\n",
    "Utricle and saccule of the vestibule perceive position with respect to gravity or linear movements.\n",
    "Each of these endolymph filled chambers contain hair cells that project into a gelatinous material\n",
    "\n",
    "in which small calcium carbonate particles (otolith) are embedded. When the head is tilted\n",
    "otoliths press on the hairs projecting into the gels bending the hair bundle. These deflections in\n",
    "the hair cells cause membrane potential changes which are transmitted as nerve impulses into the\n",
    "cerebellum.\n",
    "The semicircular canals, arranged in three spatial planes detect angular movements of the head.\n",
    "Within each canal, hair cells form a cluster with the hairs projecting into a gelatinous cap. Changes\n",
    "in the position of the head causes movements in the perilymph and endolymph. As a result, hair\n",
    "cells are stimulated and resulting nerve impulses are transmitted to the brain. \n",
    "\"\"\""
   ]
  },
  {
   "cell_type": "code",
   "execution_count": 26,
   "metadata": {},
   "outputs": [
    {
     "name": "stdout",
     "output_type": "stream",
     "text": [
      "The human ear is divided into three parts: the outer ear, middle ear and inner ear. Outer wear consists of the piano and auditory canal. Middle ear (tympanic cavity) is an air-filled cavity within the temporal bone. Three very small bones (ear ossicles) called malleus, incus and stapes extend across the middle ear from tympanic membrane to the oval window. Three very small bones (ear ossicles) called malleus, incus and stapes extend across the middle ear from tympanic membrane to the oval window. Inner ear is formed from a network of channels and cavities in temporal bone which are called bony labyrinth. The cochlear duct is a part of the membranous labyrinth and filled with endolymph. It contains supporting cells and specialized cochlear hair cells containing mechanoreceptors (auditory receptors) of the ear. Hearing objects produce pressure waves in the surrounding air. In hearing, the ear transduces these pressure waves to changing membrane potential leading to generation of nerve impulses that are transmitted to the brain which perceive sound. The outer wear collects and concentrates sound waves and directs them along the auditory canal towards the tympanic membrane. Tympanic membrane vibrations are transmitted and amplified through the middle ear by the movement of three jointed ear ossicles. The vestibule is a part of the vestibular system that functions to maintain posture and balance. It contains endolymph filled chambers that contain hair cells that project into a gelatinous material in which small calcium carbonate particles (otoliths) are embedded. These deflections cause membrane potential changes which are transmitted as nerve impulses into the cerebellum. The semicircular canals detect angular movements of the head. Hair cells form a cluster with the hairs projecting into a gelatinous cap. Changes in the position of the head cause movement in the perilymph and endolymph. As a result, hair cells are stimulated and nerve impulses transmit to the brain.\n"
     ]
    }
   ],
   "source": [
    "print(generate_summary_for_long_text(sample_long_text, min_words=150, max_words=350))"
   ]
  }
 ],
 "metadata": {
  "kernelspec": {
   "display_name": "Python 3",
   "language": "python",
   "name": "python3"
  },
  "language_info": {
   "codemirror_mode": {
    "name": "ipython",
    "version": 3
   },
   "file_extension": ".py",
   "mimetype": "text/x-python",
   "name": "python",
   "nbconvert_exporter": "python",
   "pygments_lexer": "ipython3",
   "version": "3.12.1"
  }
 },
 "nbformat": 4,
 "nbformat_minor": 2
}
