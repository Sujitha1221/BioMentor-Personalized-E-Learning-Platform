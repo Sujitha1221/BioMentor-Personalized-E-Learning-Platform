{
 "cells": [
  {
   "cell_type": "code",
   "execution_count": 33,
   "metadata": {
    "id": "C9-n5ZVhuV5K"
   },
   "outputs": [],
   "source": [
    "import pandas as pd"
   ]
  },
  {
   "cell_type": "code",
   "execution_count": 34,
   "metadata": {
    "id": "BNZ4VYZQvvrP"
   },
   "outputs": [],
   "source": [
    "# Load the dataset with a specified encoding\n",
    "data = pd.read_csv('biology_summarization_example.csv', encoding='ISO-8859-1')"
   ]
  },
  {
   "cell_type": "code",
   "execution_count": 35,
   "metadata": {
    "colab": {
     "base_uri": "https://localhost:8080/"
    },
    "id": "EP6YsOBxz9ga",
    "outputId": "ace37cd2-6721-4dd6-912f-d5b52b43809c"
   },
   "outputs": [
    {
     "name": "stdout",
     "output_type": "stream",
     "text": [
      "                                           Long Text  \\\n",
      "0  Issues pertaining to Biology. Understanding bi...   \n",
      "1  In accordance with different criteria we can s...   \n",
      "2  Physical and chemical properties of water impo...   \n",
      "3  Carbohydrates\\nMost abundant group of organic ...   \n",
      "4  Lipids\\nDiverse group of hydrophobic molecule...   \n",
      "\n",
      "                                             Summary  \\\n",
      "0  Biological diversity refers to the variety of ...   \n",
      "1  Living organisms show vast diversity in size, ...   \n",
      "2  Water is an essential molecule for life due to...   \n",
      "3  Carbohydrates are the most abundant organic co...   \n",
      "4  Lipids are a diverse group of hydrophobic mole...   \n",
      "\n",
      "                                            Keywords Unnamed: 3  \n",
      "0  Biological diversity,  Species, Genes, Ecosyst...        NaN  \n",
      "1  Diversity, Size, Shape, Form, Habitat, Metabol...        NaN  \n",
      "2  Water molecule, Polarity, Hydrogen bonds, Cohe...        NaN  \n",
      "3  Carbohydrates, Monosaccharides, Disaccharides,...        NaN  \n",
      "4  Lipids, Fats, Phospholipids, Saturated fats, U...        NaN  \n"
     ]
    }
   ],
   "source": [
    "# Display first few rows\n",
    "print(data.head()) \n"
   ]
  },
  {
   "cell_type": "code",
   "execution_count": 36,
   "metadata": {
    "colab": {
     "base_uri": "https://localhost:8080/"
    },
    "id": "04OMknUr0WFo",
    "outputId": "002015af-3314-42e4-a9d0-ec288d900a6a"
   },
   "outputs": [
    {
     "name": "stdout",
     "output_type": "stream",
     "text": [
      "<class 'pandas.core.frame.DataFrame'>\n",
      "RangeIndex: 499 entries, 0 to 498\n",
      "Data columns (total 4 columns):\n",
      " #   Column      Non-Null Count  Dtype \n",
      "---  ------      --------------  ----- \n",
      " 0   Long Text   499 non-null    object\n",
      " 1   Summary     499 non-null    object\n",
      " 2   Keywords    498 non-null    object\n",
      " 3   Unnamed: 3  1 non-null      object\n",
      "dtypes: object(4)\n",
      "memory usage: 15.7+ KB\n",
      "None\n"
     ]
    }
   ],
   "source": [
    "print(data.info())  # Check data info"
   ]
  },
  {
   "cell_type": "code",
   "execution_count": 37,
   "metadata": {
    "colab": {
     "base_uri": "https://localhost:8080/"
    },
    "id": "yFPABrcZ4ady",
    "outputId": "4c228b32-fce2-4f4d-c527-e0bb3f074a55"
   },
   "outputs": [
    {
     "name": "stdout",
     "output_type": "stream",
     "text": [
      "                                                Long Text  \\\n",
      "count                                                 499   \n",
      "unique                                                497   \n",
      "top     The Interior Uses of Plants\\nBACKGROUND AND ST...   \n",
      "freq                                                    2   \n",
      "\n",
      "                                                  Summary  \\\n",
      "count                                                 499   \n",
      "unique                                                497   \n",
      "top     Soil nutrients are critical for plant growth, ...   \n",
      "freq                                                    2   \n",
      "\n",
      "                                                 Keywords  \\\n",
      "count                                                 498   \n",
      "unique                                                497   \n",
      "top     soil nutrients, macronutrients, micronutrients...   \n",
      "freq                                                    2   \n",
      "\n",
      "                                               Unnamed: 3  \n",
      "count                                                   1  \n",
      "unique                                                  1  \n",
      "top     Cell Cycle, Mitosis, Interphase, Mitotic Phase...  \n",
      "freq                                                    1  \n"
     ]
    }
   ],
   "source": [
    "print(data.describe())"
   ]
  },
  {
   "cell_type": "code",
   "execution_count": 38,
   "metadata": {
    "colab": {
     "base_uri": "https://localhost:8080/"
    },
    "id": "N616rymE51ve",
    "outputId": "6d1281a7-b997-49e4-ed34-9a1a3c2aba17"
   },
   "outputs": [
    {
     "name": "stdout",
     "output_type": "stream",
     "text": [
      "Index(['Long Text', 'Summary', 'Keywords', 'Unnamed: 3'], dtype='object')\n"
     ]
    }
   ],
   "source": [
    "#printData Columns\n",
    "print(data.columns)"
   ]
  },
  {
   "cell_type": "code",
   "execution_count": 39,
   "metadata": {
    "id": "Kkb7ftaV6IFG"
   },
   "outputs": [],
   "source": [
    "#Drop the unnamed unnecessary column\n",
    "data = data.drop(columns=['Unnamed: 3'])"
   ]
  },
  {
   "cell_type": "code",
   "execution_count": 40,
   "metadata": {
    "colab": {
     "base_uri": "https://localhost:8080/"
    },
    "id": "fQOpGf6A7n5D",
    "outputId": "0378b7a7-3689-4695-ae40-8d749d668daf"
   },
   "outputs": [
    {
     "name": "stdout",
     "output_type": "stream",
     "text": [
      "Index(['Long Text', 'Summary', 'Keywords'], dtype='object')\n"
     ]
    }
   ],
   "source": [
    "#print Data Columns after the deletion\n",
    "print(data.columns)"
   ]
  },
  {
   "cell_type": "code",
   "execution_count": 41,
   "metadata": {
    "colab": {
     "base_uri": "https://localhost:8080/",
     "height": 178
    },
    "id": "NuhqKUFw7v50",
    "outputId": "c1802e4c-703b-4b53-b7df-284a228948b9"
   },
   "outputs": [
    {
     "data": {
      "text/plain": [
       "Long Text    0\n",
       "Summary      0\n",
       "Keywords     1\n",
       "dtype: int64"
      ]
     },
     "execution_count": 41,
     "metadata": {},
     "output_type": "execute_result"
    }
   ],
   "source": [
    "#Check for null values\n",
    "data.isnull().sum()"
   ]
  },
  {
   "cell_type": "code",
   "execution_count": 42,
   "metadata": {
    "colab": {
     "base_uri": "https://localhost:8080/",
     "height": 3131
    },
    "id": "udIlZBru8Gll",
    "outputId": "271381ff-163e-4954-dfd4-77aa10abf089"
   },
   "outputs": [
    {
     "data": {
      "text/html": [
       "<div>\n",
       "<style scoped>\n",
       "    .dataframe tbody tr th:only-of-type {\n",
       "        vertical-align: middle;\n",
       "    }\n",
       "\n",
       "    .dataframe tbody tr th {\n",
       "        vertical-align: top;\n",
       "    }\n",
       "\n",
       "    .dataframe thead th {\n",
       "        text-align: right;\n",
       "    }\n",
       "</style>\n",
       "<table border=\"1\" class=\"dataframe\">\n",
       "  <thead>\n",
       "    <tr style=\"text-align: right;\">\n",
       "      <th></th>\n",
       "      <th>Long Text</th>\n",
       "      <th>Summary</th>\n",
       "    </tr>\n",
       "  </thead>\n",
       "  <tbody>\n",
       "    <tr>\n",
       "      <th>0</th>\n",
       "      <td>issues pertaining to biology understanding bio...</td>\n",
       "      <td>biological diversity refers to the variety of ...</td>\n",
       "    </tr>\n",
       "    <tr>\n",
       "      <th>1</th>\n",
       "      <td>in accordance with different criteria we can s...</td>\n",
       "      <td>living organisms show vast diversity in size s...</td>\n",
       "    </tr>\n",
       "    <tr>\n",
       "      <th>2</th>\n",
       "      <td>physical and chemical properties of water impo...</td>\n",
       "      <td>water is an essential molecule for life due to...</td>\n",
       "    </tr>\n",
       "    <tr>\n",
       "      <th>3</th>\n",
       "      <td>carbohydrates most abundant group of organic c...</td>\n",
       "      <td>carbohydrates are the most abundant organic co...</td>\n",
       "    </tr>\n",
       "    <tr>\n",
       "      <th>4</th>\n",
       "      <td>lipids diverse group of hydrophobic molecules ...</td>\n",
       "      <td>lipids are a diverse group of hydrophobic mole...</td>\n",
       "    </tr>\n",
       "  </tbody>\n",
       "</table>\n",
       "</div>"
      ],
      "text/plain": [
       "                                           Long Text  \\\n",
       "0  issues pertaining to biology understanding bio...   \n",
       "1  in accordance with different criteria we can s...   \n",
       "2  physical and chemical properties of water impo...   \n",
       "3  carbohydrates most abundant group of organic c...   \n",
       "4  lipids diverse group of hydrophobic molecules ...   \n",
       "\n",
       "                                             Summary  \n",
       "0  biological diversity refers to the variety of ...  \n",
       "1  living organisms show vast diversity in size s...  \n",
       "2  water is an essential molecule for life due to...  \n",
       "3  carbohydrates are the most abundant organic co...  \n",
       "4  lipids are a diverse group of hydrophobic mole...  "
      ]
     },
     "execution_count": 42,
     "metadata": {},
     "output_type": "execute_result"
    }
   ],
   "source": [
    "#Remove unwanted characters, space, special characters\n",
    "import re\n",
    "\n",
    "# Function to standardize text: convert to lowercase, remove irrelevant symbols\n",
    "def standardize_text(text):\n",
    "    # Convert to lowercase\n",
    "    text = text.lower()\n",
    "    # Remove irrelevant symbols (e.g. unusual bullet points)\n",
    "    text = re.sub(r'[¦]', '', text)\n",
    "    # Remove any remaining special characters (e.g., non-alphanumeric symbols)\n",
    "    text = re.sub(r'[^a-zA-Z0-9\\s]', '', text)\n",
    "    # Remove extra whitespace\n",
    "    text = re.sub(r'\\s+', ' ', text).strip()\n",
    "    return text\n",
    "\n",
    "# Apply the function to standardize the 'Long Text' and 'Summary' columns\n",
    "data['Long Text'] = data['Long Text'].apply(standardize_text)\n",
    "data['Summary'] = data['Summary'].apply(standardize_text)\n",
    "\n",
    "# Display a sample to verify the standardization process\n",
    "data[['Long Text', 'Summary']].head()"
   ]
  },
  {
   "cell_type": "code",
   "execution_count": 43,
   "metadata": {
    "colab": {
     "base_uri": "https://localhost:8080/"
    },
    "id": "_1KSYVTVBc0N",
    "outputId": "00480ebc-7f13-4396-9619-26fa991be91e"
   },
   "outputs": [
    {
     "data": {
      "text/plain": [
       "(499, 499)"
      ]
     },
     "execution_count": 43,
     "metadata": {},
     "output_type": "execute_result"
    }
   ],
   "source": [
    "# Check and remove duplicates on columns 'Long Text' and 'Summary' \n",
    "data_cleaned = data.drop_duplicates(subset=['Long Text', 'Summary'])\n",
    "\n",
    "# Display the number of rows before and after removing duplicates\n",
    "original_count = data.shape[0]\n",
    "cleaned_count = data_cleaned.shape[0]\n",
    "\n",
    "original_count, cleaned_count\n"
   ]
  },
  {
   "cell_type": "code",
   "execution_count": 44,
   "metadata": {
    "colab": {
     "base_uri": "https://localhost:8080/"
    },
    "id": "ai39pkPiCECo",
    "outputId": "0baf25ae-8cd4-425b-8e26-92e4b87595a8"
   },
   "outputs": [
    {
     "data": {
      "text/plain": [
       "(0, 0)"
      ]
     },
     "execution_count": 44,
     "metadata": {},
     "output_type": "execute_result"
    }
   ],
   "source": [
    "# Check for missing values in the essential columns 'Long Text' and 'Summary'\n",
    "missing_long_text = data['Long Text'].isnull().sum()\n",
    "missing_summary = data['Summary'].isnull().sum()\n",
    "\n",
    "# Display the count of missing values in each essential column\n",
    "missing_long_text, missing_summary\n"
   ]
  },
  {
   "cell_type": "code",
   "execution_count": 45,
   "metadata": {
    "colab": {
     "base_uri": "https://localhost:8080/",
     "height": 36
    },
    "id": "YMVkqtP-EY91",
    "outputId": "c150c147-9f01-47f9-f015-8f061c565382"
   },
   "outputs": [
    {
     "data": {
      "text/plain": [
       "'bio_summary_final.csv'"
      ]
     },
     "execution_count": 45,
     "metadata": {},
     "output_type": "execute_result"
    }
   ],
   "source": [
    "# Select only 'Long Text' and 'Summary' columns and rename the headers to lowercase\n",
    "data_final = data_cleaned[['Long Text', 'Summary']].rename(columns={'Long Text': 'long text', 'Summary': 'summary'})\n",
    "\n",
    "# Save this final cleaned dataset to a new CSV file\n",
    "output_path_final = 'bio_summary_final.csv'\n",
    "data_final.to_csv(output_path_final, index=False)\n",
    "\n",
    "output_path_final\n"
   ]
  }
 ],
 "metadata": {
  "accelerator": "GPU",
  "colab": {
   "gpuType": "T4",
   "provenance": []
  },
  "kernelspec": {
   "display_name": "Python 3",
   "name": "python3"
  },
  "language_info": {
   "codemirror_mode": {
    "name": "ipython",
    "version": 3
   },
   "file_extension": ".py",
   "mimetype": "text/x-python",
   "name": "python",
   "nbconvert_exporter": "python",
   "pygments_lexer": "ipython3",
   "version": "3.12.1"
  }
 },
 "nbformat": 4,
 "nbformat_minor": 0
}
