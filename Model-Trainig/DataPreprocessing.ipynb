{
 "cells": [
  {
   "cell_type": "code",
   "execution_count": 1,
   "metadata": {},
   "outputs": [],
   "source": [
    "import pandas as pd\n",
    "import numpy as np"
   ]
  },
  {
   "cell_type": "code",
   "execution_count": 4,
   "metadata": {},
   "outputs": [],
   "source": [
    "# Step 2: Load the dataset\n",
    "# Step 2: Load the dataset with a specified encoding\n",
    "data = pd.read_csv('biology_summarization_example.csv', encoding='ISO-8859-1')"
   ]
  },
  {
   "cell_type": "code",
   "execution_count": 6,
   "metadata": {},
   "outputs": [
    {
     "name": "stdout",
     "output_type": "stream",
     "text": [
      "                                           Long Text  \\\n",
      "0  \\nIssues pertaining to Biology. Understanding ...   \n",
      "1  \\nIn accordance with different criteria we can...   \n",
      "2  Physical and chemical properties of water impo...   \n",
      "3  Carbohydrates\\nMost abundant group of organic ...   \n",
      "4  Lipids\\nDiverse group of hydrophobic molecule...   \n",
      "\n",
      "                                             Summary  \\\n",
      "0  Biological diversity refers to the variety of ...   \n",
      "1  Living organisms show vast diversity in size, ...   \n",
      "2  Water is an essential molecule for life due to...   \n",
      "3  Carbohydrates are the most abundant organic co...   \n",
      "4  Lipids are a diverse group of hydrophobic mole...   \n",
      "\n",
      "                                            Keywords Unnamed: 3  \n",
      "0  Biological diversity,  Species, Genes, Ecosyst...        NaN  \n",
      "1  Diversity, Size, Shape, Form, Habitat, Metabol...        NaN  \n",
      "2  Water molecule, Polarity, Hydrogen bonds, Cohe...        NaN  \n",
      "3  Carbohydrates, Monosaccharides, Disaccharides,...        NaN  \n",
      "4  Lipids, Fats, Phospholipids, Saturated fats, U...        NaN  \n"
     ]
    }
   ],
   "source": [
    "# Step 3: Inspect the dataset\n",
    "print(data.head())  # Display first few rows\n"
   ]
  },
  {
   "cell_type": "code",
   "execution_count": null,
   "metadata": {},
   "outputs": [],
   "source": []
  },
  {
   "cell_type": "code",
   "execution_count": null,
   "metadata": {},
   "outputs": [
    {
     "name": "stdout",
     "output_type": "stream",
     "text": [
      "<class 'pandas.core.frame.DataFrame'>\n",
      "RangeIndex: 499 entries, 0 to 498\n",
      "Data columns (total 4 columns):\n",
      " #   Column      Non-Null Count  Dtype \n",
      "---  ------      --------------  ----- \n",
      " 0   Long Text   499 non-null    object\n",
      " 1   Summary     499 non-null    object\n",
      " 2   Keywords    498 non-null    object\n",
      " 3   Unnamed: 3  1 non-null      object\n",
      "dtypes: object(4)\n",
      "memory usage: 15.7+ KB\n",
      "None\n"
     ]
    }
   ],
   "source": [
    "print(data.info())  # Check data info"
   ]
  },
  {
   "cell_type": "code",
   "execution_count": null,
   "metadata": {},
   "outputs": [
    {
     "name": "stdout",
     "output_type": "stream",
     "text": [
      "                                                Long Text  \\\n",
      "count                                                 499   \n",
      "unique                                                497   \n",
      "top     The Interior Uses of Plants\\nBACKGROUND AND ST...   \n",
      "freq                                                    2   \n",
      "\n",
      "                                                  Summary  \\\n",
      "count                                                 499   \n",
      "unique                                                497   \n",
      "top     Soil nutrients are critical for plant growth, ...   \n",
      "freq                                                    2   \n",
      "\n",
      "                                                 Keywords  \\\n",
      "count                                                 498   \n",
      "unique                                                497   \n",
      "top     soil nutrients, macronutrients, micronutrients...   \n",
      "freq                                                    2   \n",
      "\n",
      "                                               Unnamed: 3  \n",
      "count                                                   1  \n",
      "unique                                                  1  \n",
      "top     Cell Cycle, Mitosis, Interphase, Mitotic Phase...  \n",
      "freq                                                    1  \n"
     ]
    }
   ],
   "source": [
    "print(data.describe()) "
   ]
  },
  {
   "cell_type": "code",
   "execution_count": null,
   "metadata": {},
   "outputs": [
    {
     "name": "stdout",
     "output_type": "stream",
     "text": [
      "Index(['Long Text', 'Summary', 'Keywords', 'Unnamed: 3'], dtype='object')\n"
     ]
    }
   ],
   "source": [
    "#printing Data Columns\n",
    "print(data.columns) "
   ]
  },
  {
   "cell_type": "code",
   "execution_count": null,
   "metadata": {},
   "outputs": [],
   "source": [
    "#Drop the unnamed unnecessary column\n",
    "data = data.drop(columns=['Unnamed: 3'])"
   ]
  },
  {
   "cell_type": "code",
   "execution_count": null,
   "metadata": {},
   "outputs": [
    {
     "name": "stdout",
     "output_type": "stream",
     "text": [
      "Index(['Long Text', 'Summary', 'Keywords'], dtype='object')\n"
     ]
    }
   ],
   "source": [
    "#printing Data Columns\n",
    "print(data.columns)"
   ]
  },
  {
   "cell_type": "code",
   "execution_count": null,
   "metadata": {},
   "outputs": [
    {
     "data": {
      "text/plain": [
       "Long Text    0\n",
       "Summary      0\n",
       "Keywords     1\n",
       "dtype: int64"
      ]
     },
     "execution_count": 15,
     "metadata": {},
     "output_type": "execute_result"
    }
   ],
   "source": [
    "#Check for null values\n",
    "data.isnull().sum()"
   ]
  },
  {
   "cell_type": "code",
   "execution_count": null,
   "metadata": {},
   "outputs": [
    {
     "data": {
      "text/html": [
       "<div>\n",
       "<style scoped>\n",
       "    .dataframe tbody tr th:only-of-type {\n",
       "        vertical-align: middle;\n",
       "    }\n",
       "\n",
       "    .dataframe tbody tr th {\n",
       "        vertical-align: top;\n",
       "    }\n",
       "\n",
       "    .dataframe thead th {\n",
       "        text-align: right;\n",
       "    }\n",
       "</style>\n",
       "<table border=\"1\" class=\"dataframe\">\n",
       "  <thead>\n",
       "    <tr style=\"text-align: right;\">\n",
       "      <th></th>\n",
       "      <th>Long Text</th>\n",
       "      <th>Summary</th>\n",
       "    </tr>\n",
       "  </thead>\n",
       "  <tbody>\n",
       "    <tr>\n",
       "      <th>0</th>\n",
       "      <td>issues pertaining to biology understanding bio...</td>\n",
       "      <td>biological diversity refers to the variety of ...</td>\n",
       "    </tr>\n",
       "    <tr>\n",
       "      <th>1</th>\n",
       "      <td>in accordance with different criteria we can s...</td>\n",
       "      <td>living organisms show vast diversity in size s...</td>\n",
       "    </tr>\n",
       "    <tr>\n",
       "      <th>2</th>\n",
       "      <td>physical and chemical properties of water impo...</td>\n",
       "      <td>water is an essential molecule for life due to...</td>\n",
       "    </tr>\n",
       "    <tr>\n",
       "      <th>3</th>\n",
       "      <td>carbohydrates most abundant group of organic c...</td>\n",
       "      <td>carbohydrates are the most abundant organic co...</td>\n",
       "    </tr>\n",
       "    <tr>\n",
       "      <th>4</th>\n",
       "      <td>lipids diverse group of hydrophobic molecules ...</td>\n",
       "      <td>lipids are a diverse group of hydrophobic mole...</td>\n",
       "    </tr>\n",
       "  </tbody>\n",
       "</table>\n",
       "</div>"
      ],
      "text/plain": [
       "                                           Long Text  \\\n",
       "0  issues pertaining to biology understanding bio...   \n",
       "1  in accordance with different criteria we can s...   \n",
       "2  physical and chemical properties of water impo...   \n",
       "3  carbohydrates most abundant group of organic c...   \n",
       "4  lipids diverse group of hydrophobic molecules ...   \n",
       "\n",
       "                                             Summary  \n",
       "0  biological diversity refers to the variety of ...  \n",
       "1  living organisms show vast diversity in size s...  \n",
       "2  water is an essential molecule for life due to...  \n",
       "3  carbohydrates are the most abundant organic co...  \n",
       "4  lipids are a diverse group of hydrophobic mole...  "
      ]
     },
     "execution_count": 17,
     "metadata": {},
     "output_type": "execute_result"
    }
   ],
   "source": [
    "#Removing unwanted characters, space, special characters\n",
    "import re\n",
    "\n",
    "# Function to standardize text: convert to lowercase, remove irrelevant symbols\n",
    "def standardize_text(text):\n",
    "    # Convert to lowercase\n",
    "    text = text.lower()\n",
    "    # Remove irrelevant symbols (e.g., unusual bullet points, etc.)\n",
    "    text = re.sub(r'[¦]', '', text)\n",
    "    # Remove any remaining special characters (e.g., non-alphanumeric symbols)\n",
    "    text = re.sub(r'[^a-zA-Z0-9\\s]', '', text)\n",
    "    # Remove extra whitespace\n",
    "    text = re.sub(r'\\s+', ' ', text).strip()\n",
    "    return text\n",
    "\n",
    "# Apply the function to standardize the 'Long Text' and 'Summary' columns\n",
    "data['Long Text'] = data['Long Text'].apply(standardize_text)\n",
    "data['Summary'] = data['Summary'].apply(standardize_text)\n",
    "\n",
    "# Display a sample to verify the standardization process\n",
    "data[['Long Text', 'Summary']].head()"
   ]
  },
  {
   "cell_type": "code",
   "execution_count": 18,
   "metadata": {},
   "outputs": [
    {
     "data": {
      "text/plain": [
       "(499, 499)"
      ]
     },
     "execution_count": 18,
     "metadata": {},
     "output_type": "execute_result"
    }
   ],
   "source": [
    "# Checking and removing duplicates based on specific columns 'Long Text' and 'Summary' only, which are the main content columns\n",
    "data_cleaned = data.drop_duplicates(subset=['Long Text', 'Summary'])\n",
    "\n",
    "# Display the number of rows before and after removing duplicates\n",
    "original_count = data.shape[0]\n",
    "cleaned_count = data_cleaned.shape[0]\n",
    "\n",
    "original_count, cleaned_count\n"
   ]
  },
  {
   "cell_type": "code",
   "execution_count": 19,
   "metadata": {},
   "outputs": [
    {
     "data": {
      "text/plain": [
       "(0, 0)"
      ]
     },
     "execution_count": 19,
     "metadata": {},
     "output_type": "execute_result"
    }
   ],
   "source": [
    "# Checking for missing values in the essential columns 'Long Text' and 'Summary'\n",
    "missing_long_text = data['Long Text'].isnull().sum()\n",
    "missing_summary = data['Summary'].isnull().sum()\n",
    "\n",
    "# Displaying the count of missing values in each essential column\n",
    "missing_long_text, missing_summary\n"
   ]
  },
  {
   "cell_type": "code",
   "execution_count": null,
   "metadata": {},
   "outputs": [
    {
     "data": {
      "text/plain": [
       "'C:/Users/dinon/Desktop/Summary/bio_summary.csv'"
      ]
     },
     "execution_count": 20,
     "metadata": {},
     "output_type": "execute_result"
    }
   ],
   "source": [
    "# Saving the cleaned dataset to a new CSV file named 'bio_summary.csv'\n",
    "output_path = 'D:/Downloads/RP/Summarization/Summary_Description/bio_summary.csv'\n",
    "data_cleaned.to_csv(output_path, index=False)\n",
    "\n",
    "output_path\n"
   ]
  },
  {
   "cell_type": "code",
   "execution_count": null,
   "metadata": {},
   "outputs": [
    {
     "data": {
      "text/plain": [
       "'C:/Users/dinon/Desktop/Summary/bio_summary_final.csv'"
      ]
     },
     "execution_count": 22,
     "metadata": {},
     "output_type": "execute_result"
    }
   ],
   "source": [
    "# Selecting only 'Long Text' and 'Summary' columns and renaming the headers to lowercase\n",
    "data_final = data_cleaned[['Long Text', 'Summary']].rename(columns={'Long Text': 'long text', 'Summary': 'summary'})\n",
    "\n",
    "# Saving this final cleaned dataset to a new CSV file\n",
    "output_path_final = 'D:/Downloads/RP/Summarization/Summary_Description/bio_summary_final.csv'\n",
    "data_final.to_csv(output_path_final, index=False)\n",
    "\n",
    "output_path_final\n"
   ]
  }
 ],
 "metadata": {
  "kernelspec": {
   "display_name": "Python 3",
   "language": "python",
   "name": "python3"
  },
  "language_info": {
   "codemirror_mode": {
    "name": "ipython",
    "version": 3
   },
   "file_extension": ".py",
   "mimetype": "text/x-python",
   "name": "python",
   "nbconvert_exporter": "python",
   "pygments_lexer": "ipython3",
   "version": "3.12.1"
  }
 },
 "nbformat": 4,
 "nbformat_minor": 2
}
